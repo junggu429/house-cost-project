{
  "nbformat": 4,
  "nbformat_minor": 0,
  "metadata": {
    "colab": {
      "name": "Untitled3.ipynb",
      "provenance": [],
      "mount_file_id": "1p2fLe1aZyJg5gFWVm1YbIg8tmOxejuNs",
      "authorship_tag": "ABX9TyOWU1Gy9+YsBaiS6H/2D8uj",
      "include_colab_link": true
    },
    "kernelspec": {
      "name": "python3",
      "display_name": "Python 3"
    },
    "language_info": {
      "name": "python"
    }
  },
  "cells": [
    {
      "cell_type": "markdown",
      "metadata": {
        "id": "view-in-github",
        "colab_type": "text"
      },
      "source": [
        "<a href=\"https://colab.research.google.com/github/junggu429/house-cost-project/blob/main/%EC%B6%95%EA%B5%AC%202%EC%B0%A8.ipynb\" target=\"_parent\"><img src=\"https://colab.research.google.com/assets/colab-badge.svg\" alt=\"Open In Colab\"/></a>"
      ]
    },
    {
      "cell_type": "code",
      "execution_count": 1,
      "metadata": {
        "id": "2Apu-EKJlqwu"
      },
      "outputs": [],
      "source": [
        "import pandas as pd\n",
        "from sklearn.preprocessing import StandardScaler\n",
        "from sklearn.ensemble import RandomForestRegressor"
      ]
    },
    {
      "cell_type": "markdown",
      "source": [
        "원핫인코딩함\n",
        "\n",
        "점수 1,212,798"
      ],
      "metadata": {
        "id": "d9WJbsIi3Cj_"
      }
    },
    {
      "cell_type": "code",
      "source": [
        "from google.colab import drive\n",
        "drive.mount('/content/drive')"
      ],
      "metadata": {
        "colab": {
          "base_uri": "https://localhost:8080/"
        },
        "id": "3TyEgDo_lt9V",
        "outputId": "b89331ef-4d29-48cd-954d-167daf7361c5"
      },
      "execution_count": 2,
      "outputs": [
        {
          "output_type": "stream",
          "name": "stdout",
          "text": [
            "Mounted at /content/drive\n"
          ]
        }
      ]
    },
    {
      "cell_type": "code",
      "source": [
        "train = pd.read_csv('/content/drive/MyDrive/FIFA_train.csv')\n",
        "test = pd.read_csv('/content/drive/MyDrive/FIFA_test.csv')\n",
        "submission = pd.read_csv('/content/drive/MyDrive/submission.csv')"
      ],
      "metadata": {
        "id": "4PmFR5oVl1Gn"
      },
      "execution_count": 3,
      "outputs": []
    },
    {
      "cell_type": "code",
      "source": [
        "train.head()"
      ],
      "metadata": {
        "colab": {
          "base_uri": "https://localhost:8080/",
          "height": 357
        },
        "id": "8ghpYFSOl1Jd",
        "outputId": "79dee186-771c-48d6-b923-bbfa1a9dcfc8"
      },
      "execution_count": 27,
      "outputs": [
        {
          "output_type": "execute_result",
          "data": {
            "text/html": [
              "\n",
              "  <div id=\"df-9dd1a3cb-43f9-4180-9cb8-6808c7afd2ce\">\n",
              "    <div class=\"colab-df-container\">\n",
              "      <div>\n",
              "<style scoped>\n",
              "    .dataframe tbody tr th:only-of-type {\n",
              "        vertical-align: middle;\n",
              "    }\n",
              "\n",
              "    .dataframe tbody tr th {\n",
              "        vertical-align: top;\n",
              "    }\n",
              "\n",
              "    .dataframe thead th {\n",
              "        text-align: right;\n",
              "    }\n",
              "</style>\n",
              "<table border=\"1\" class=\"dataframe\">\n",
              "  <thead>\n",
              "    <tr style=\"text-align: right;\">\n",
              "      <th></th>\n",
              "      <th>id</th>\n",
              "      <th>name</th>\n",
              "      <th>age</th>\n",
              "      <th>continent</th>\n",
              "      <th>contract_until</th>\n",
              "      <th>position</th>\n",
              "      <th>prefer_foot</th>\n",
              "      <th>reputation</th>\n",
              "      <th>stat_overall</th>\n",
              "      <th>stat_potential</th>\n",
              "      <th>stat_skill_moves</th>\n",
              "      <th>value</th>\n",
              "    </tr>\n",
              "  </thead>\n",
              "  <tbody>\n",
              "    <tr>\n",
              "      <th>0</th>\n",
              "      <td>0</td>\n",
              "      <td>L. Messi</td>\n",
              "      <td>31</td>\n",
              "      <td>south america</td>\n",
              "      <td>2021</td>\n",
              "      <td>ST</td>\n",
              "      <td>left</td>\n",
              "      <td>5.0</td>\n",
              "      <td>94</td>\n",
              "      <td>94</td>\n",
              "      <td>4.0</td>\n",
              "      <td>110500000.0</td>\n",
              "    </tr>\n",
              "    <tr>\n",
              "      <th>1</th>\n",
              "      <td>3</td>\n",
              "      <td>De Gea</td>\n",
              "      <td>27</td>\n",
              "      <td>europe</td>\n",
              "      <td>2020</td>\n",
              "      <td>GK</td>\n",
              "      <td>right</td>\n",
              "      <td>4.0</td>\n",
              "      <td>91</td>\n",
              "      <td>93</td>\n",
              "      <td>1.0</td>\n",
              "      <td>72000000.0</td>\n",
              "    </tr>\n",
              "    <tr>\n",
              "      <th>2</th>\n",
              "      <td>7</td>\n",
              "      <td>L. Suárez</td>\n",
              "      <td>31</td>\n",
              "      <td>south america</td>\n",
              "      <td>2021</td>\n",
              "      <td>ST</td>\n",
              "      <td>right</td>\n",
              "      <td>5.0</td>\n",
              "      <td>91</td>\n",
              "      <td>91</td>\n",
              "      <td>3.0</td>\n",
              "      <td>80000000.0</td>\n",
              "    </tr>\n",
              "    <tr>\n",
              "      <th>3</th>\n",
              "      <td>8</td>\n",
              "      <td>Sergio Ramos</td>\n",
              "      <td>32</td>\n",
              "      <td>europe</td>\n",
              "      <td>2020</td>\n",
              "      <td>DF</td>\n",
              "      <td>right</td>\n",
              "      <td>4.0</td>\n",
              "      <td>91</td>\n",
              "      <td>91</td>\n",
              "      <td>3.0</td>\n",
              "      <td>51000000.0</td>\n",
              "    </tr>\n",
              "    <tr>\n",
              "      <th>4</th>\n",
              "      <td>9</td>\n",
              "      <td>J. Oblak</td>\n",
              "      <td>25</td>\n",
              "      <td>europe</td>\n",
              "      <td>2021</td>\n",
              "      <td>GK</td>\n",
              "      <td>right</td>\n",
              "      <td>3.0</td>\n",
              "      <td>90</td>\n",
              "      <td>93</td>\n",
              "      <td>1.0</td>\n",
              "      <td>68000000.0</td>\n",
              "    </tr>\n",
              "  </tbody>\n",
              "</table>\n",
              "</div>\n",
              "      <button class=\"colab-df-convert\" onclick=\"convertToInteractive('df-9dd1a3cb-43f9-4180-9cb8-6808c7afd2ce')\"\n",
              "              title=\"Convert this dataframe to an interactive table.\"\n",
              "              style=\"display:none;\">\n",
              "        \n",
              "  <svg xmlns=\"http://www.w3.org/2000/svg\" height=\"24px\"viewBox=\"0 0 24 24\"\n",
              "       width=\"24px\">\n",
              "    <path d=\"M0 0h24v24H0V0z\" fill=\"none\"/>\n",
              "    <path d=\"M18.56 5.44l.94 2.06.94-2.06 2.06-.94-2.06-.94-.94-2.06-.94 2.06-2.06.94zm-11 1L8.5 8.5l.94-2.06 2.06-.94-2.06-.94L8.5 2.5l-.94 2.06-2.06.94zm10 10l.94 2.06.94-2.06 2.06-.94-2.06-.94-.94-2.06-.94 2.06-2.06.94z\"/><path d=\"M17.41 7.96l-1.37-1.37c-.4-.4-.92-.59-1.43-.59-.52 0-1.04.2-1.43.59L10.3 9.45l-7.72 7.72c-.78.78-.78 2.05 0 2.83L4 21.41c.39.39.9.59 1.41.59.51 0 1.02-.2 1.41-.59l7.78-7.78 2.81-2.81c.8-.78.8-2.07 0-2.86zM5.41 20L4 18.59l7.72-7.72 1.47 1.35L5.41 20z\"/>\n",
              "  </svg>\n",
              "      </button>\n",
              "      \n",
              "  <style>\n",
              "    .colab-df-container {\n",
              "      display:flex;\n",
              "      flex-wrap:wrap;\n",
              "      gap: 12px;\n",
              "    }\n",
              "\n",
              "    .colab-df-convert {\n",
              "      background-color: #E8F0FE;\n",
              "      border: none;\n",
              "      border-radius: 50%;\n",
              "      cursor: pointer;\n",
              "      display: none;\n",
              "      fill: #1967D2;\n",
              "      height: 32px;\n",
              "      padding: 0 0 0 0;\n",
              "      width: 32px;\n",
              "    }\n",
              "\n",
              "    .colab-df-convert:hover {\n",
              "      background-color: #E2EBFA;\n",
              "      box-shadow: 0px 1px 2px rgba(60, 64, 67, 0.3), 0px 1px 3px 1px rgba(60, 64, 67, 0.15);\n",
              "      fill: #174EA6;\n",
              "    }\n",
              "\n",
              "    [theme=dark] .colab-df-convert {\n",
              "      background-color: #3B4455;\n",
              "      fill: #D2E3FC;\n",
              "    }\n",
              "\n",
              "    [theme=dark] .colab-df-convert:hover {\n",
              "      background-color: #434B5C;\n",
              "      box-shadow: 0px 1px 3px 1px rgba(0, 0, 0, 0.15);\n",
              "      filter: drop-shadow(0px 1px 2px rgba(0, 0, 0, 0.3));\n",
              "      fill: #FFFFFF;\n",
              "    }\n",
              "  </style>\n",
              "\n",
              "      <script>\n",
              "        const buttonEl =\n",
              "          document.querySelector('#df-9dd1a3cb-43f9-4180-9cb8-6808c7afd2ce button.colab-df-convert');\n",
              "        buttonEl.style.display =\n",
              "          google.colab.kernel.accessAllowed ? 'block' : 'none';\n",
              "\n",
              "        async function convertToInteractive(key) {\n",
              "          const element = document.querySelector('#df-9dd1a3cb-43f9-4180-9cb8-6808c7afd2ce');\n",
              "          const dataTable =\n",
              "            await google.colab.kernel.invokeFunction('convertToInteractive',\n",
              "                                                     [key], {});\n",
              "          if (!dataTable) return;\n",
              "\n",
              "          const docLinkHtml = 'Like what you see? Visit the ' +\n",
              "            '<a target=\"_blank\" href=https://colab.research.google.com/notebooks/data_table.ipynb>data table notebook</a>'\n",
              "            + ' to learn more about interactive tables.';\n",
              "          element.innerHTML = '';\n",
              "          dataTable['output_type'] = 'display_data';\n",
              "          await google.colab.output.renderOutput(dataTable, element);\n",
              "          const docLink = document.createElement('div');\n",
              "          docLink.innerHTML = docLinkHtml;\n",
              "          element.appendChild(docLink);\n",
              "        }\n",
              "      </script>\n",
              "    </div>\n",
              "  </div>\n",
              "  "
            ],
            "text/plain": [
              "   id          name  age  ... stat_potential stat_skill_moves        value\n",
              "0   0      L. Messi   31  ...             94              4.0  110500000.0\n",
              "1   3        De Gea   27  ...             93              1.0   72000000.0\n",
              "2   7     L. Suárez   31  ...             91              3.0   80000000.0\n",
              "3   8  Sergio Ramos   32  ...             91              3.0   51000000.0\n",
              "4   9      J. Oblak   25  ...             93              1.0   68000000.0\n",
              "\n",
              "[5 rows x 12 columns]"
            ]
          },
          "metadata": {},
          "execution_count": 27
        }
      ]
    },
    {
      "cell_type": "code",
      "source": [
        "train.info()"
      ],
      "metadata": {
        "colab": {
          "base_uri": "https://localhost:8080/"
        },
        "id": "KCn1UJ80l1Ma",
        "outputId": "5c4364c4-a025-4f31-e2cc-667b4b4840c5"
      },
      "execution_count": 7,
      "outputs": [
        {
          "output_type": "stream",
          "name": "stdout",
          "text": [
            "<class 'pandas.core.frame.DataFrame'>\n",
            "RangeIndex: 8932 entries, 0 to 8931\n",
            "Data columns (total 12 columns):\n",
            " #   Column            Non-Null Count  Dtype  \n",
            "---  ------            --------------  -----  \n",
            " 0   id                8932 non-null   int64  \n",
            " 1   name              8932 non-null   object \n",
            " 2   age               8932 non-null   int64  \n",
            " 3   continent         8932 non-null   object \n",
            " 4   contract_until    8932 non-null   object \n",
            " 5   position          8932 non-null   object \n",
            " 6   prefer_foot       8932 non-null   object \n",
            " 7   reputation        8932 non-null   float64\n",
            " 8   stat_overall      8932 non-null   int64  \n",
            " 9   stat_potential    8932 non-null   int64  \n",
            " 10  stat_skill_moves  8932 non-null   float64\n",
            " 11  value             8932 non-null   float64\n",
            "dtypes: float64(3), int64(4), object(5)\n",
            "memory usage: 837.5+ KB\n"
          ]
        }
      ]
    },
    {
      "cell_type": "code",
      "source": [
        "train['continent'].value_counts()"
      ],
      "metadata": {
        "colab": {
          "base_uri": "https://localhost:8080/"
        },
        "id": "944XxWa9l1PJ",
        "outputId": "e4d6f158-8924-4b09-e88d-637169861ccb"
      },
      "execution_count": 9,
      "outputs": [
        {
          "output_type": "execute_result",
          "data": {
            "text/plain": [
              "europe           5322\n",
              "south america    1927\n",
              "asia              787\n",
              "africa            721\n",
              "oceania           175\n",
              "Name: continent, dtype: int64"
            ]
          },
          "metadata": {},
          "execution_count": 9
        }
      ]
    },
    {
      "cell_type": "code",
      "source": [
        "train['position'].value_counts()"
      ],
      "metadata": {
        "colab": {
          "base_uri": "https://localhost:8080/"
        },
        "id": "HJJj0Wqgl1SO",
        "outputId": "ac010f17-affa-40cc-acef-3bc232cac698"
      },
      "execution_count": 10,
      "outputs": [
        {
          "output_type": "execute_result",
          "data": {
            "text/plain": [
              "MF    3428\n",
              "DF    2791\n",
              "ST    1705\n",
              "GK    1008\n",
              "Name: position, dtype: int64"
            ]
          },
          "metadata": {},
          "execution_count": 10
        }
      ]
    },
    {
      "cell_type": "code",
      "source": [
        "train['contract_until'].value_counts()"
      ],
      "metadata": {
        "colab": {
          "base_uri": "https://localhost:8080/"
        },
        "id": "7avmBrK_l1VC",
        "outputId": "db97a15f-27e4-4f47-e1ca-d6010ad050e1"
      },
      "execution_count": 29,
      "outputs": [
        {
          "output_type": "execute_result",
          "data": {
            "text/plain": [
              "2019            2366\n",
              "2021            2308\n",
              "2020            2041\n",
              "2022             761\n",
              "2023             506\n",
              "Jun 30, 2019     501\n",
              "2018             327\n",
              "Dec 31, 2018      64\n",
              "May 31, 2019      19\n",
              "2024              12\n",
              "Jan 31, 2019      10\n",
              "Jun 30, 2020       9\n",
              "2025               3\n",
              "Jan 1, 2019        2\n",
              "2026               1\n",
              "Jan 12, 2019       1\n",
              "May 31, 2020       1\n",
              "Name: contract_until, dtype: int64"
            ]
          },
          "metadata": {},
          "execution_count": 29
        }
      ]
    },
    {
      "cell_type": "code",
      "source": [
        "# 계약기간 전처리\n",
        "\n",
        "def con_period(x):\n",
        "    if x == 'Dec 31, 2018' :\n",
        "        return '2019'\n",
        "    elif x == 'Jun 30, 2020' :\n",
        "        return '2020.5'\n",
        "    elif x == 'Jun 30, 2019' :\n",
        "        return '2019.5'\n",
        "    elif x == 'May 31, 2020' :\n",
        "        return '2020.3333'\n",
        "    elif x == 'May 31, 2019' :\n",
        "        return '2019.3333'\n",
        "    elif x == 'Jan 31, 2019' :\n",
        "        return '2019.0833'\n",
        "    elif x == 'Jan 1, 2019' :\n",
        "        return '2019'\n",
        "    elif x == 'Jan 12, 2019' :\n",
        "        return '2019.034'\n",
        "    elif x == 'Dec 31, 2019' :\n",
        "        return '2020'\n",
        "    elif x == 'Jun 1, 2019' :\n",
        "        return '2019.416'\n",
        "    else :\n",
        "        return x"
      ],
      "metadata": {
        "id": "pU5Uxnq3l1YJ"
      },
      "execution_count": 30,
      "outputs": []
    },
    {
      "cell_type": "code",
      "source": [
        "train.contract_until = train.contract_until.apply(con_period).astype('float64') - 2018\n",
        "test.contract_until = test.contract_until.apply(con_period).astype('float64') - 2018"
      ],
      "metadata": {
        "id": "UnU205B1ytdA"
      },
      "execution_count": 32,
      "outputs": []
    },
    {
      "cell_type": "code",
      "source": [
        "# 원핫 인코딩"
      ],
      "metadata": {
        "id": "qxP248NL0jvQ"
      },
      "execution_count": null,
      "outputs": []
    },
    {
      "cell_type": "code",
      "source": [
        "train = pd.get_dummies(data = train, columns = ['continent'], prefix = 'continent')"
      ],
      "metadata": {
        "id": "Gyg_PAUMzJli"
      },
      "execution_count": 34,
      "outputs": []
    },
    {
      "cell_type": "code",
      "source": [
        "train = pd.get_dummies(data = train, columns = ['position'], prefix = 'position')\n"
      ],
      "metadata": {
        "id": "4dRZVSMGytVz"
      },
      "execution_count": 36,
      "outputs": []
    },
    {
      "cell_type": "code",
      "source": [
        "train = pd.get_dummies(data = train, columns = ['prefer_foot'], prefix = 'prefer_foot')"
      ],
      "metadata": {
        "id": "OTwJIC-90ZnU"
      },
      "execution_count": 37,
      "outputs": []
    },
    {
      "cell_type": "code",
      "source": [
        "test = pd.get_dummies(data = test, columns = ['continent'], prefix = 'continent')\n",
        "test = pd.get_dummies(data = test, columns = ['position'], prefix = 'position')\n",
        "test = pd.get_dummies(data = test, columns = ['prefer_foot'], prefix = 'prefer_foot')"
      ],
      "metadata": {
        "id": "VvRlXgIc0nJ9"
      },
      "execution_count": 39,
      "outputs": []
    },
    {
      "cell_type": "code",
      "source": [
        "X_train = train.drop(['id','name','value'], axis = 1)"
      ],
      "metadata": {
        "id": "9rwLhL61l1bQ"
      },
      "execution_count": 42,
      "outputs": []
    },
    {
      "cell_type": "code",
      "source": [
        "y_train = train['value']"
      ],
      "metadata": {
        "id": "8PyvwwJ80ZME"
      },
      "execution_count": 44,
      "outputs": []
    },
    {
      "cell_type": "code",
      "source": [
        "X_test = test.drop(['id','name'], axis = 1)"
      ],
      "metadata": {
        "id": "6rhHNEkyysfB"
      },
      "execution_count": 47,
      "outputs": []
    },
    {
      "cell_type": "code",
      "source": [
        ""
      ],
      "metadata": {
        "id": "U_Wlo2CK2KUd"
      },
      "execution_count": null,
      "outputs": []
    },
    {
      "cell_type": "code",
      "source": [
        ""
      ],
      "metadata": {
        "id": "lK1Mt9eS2KSF"
      },
      "execution_count": null,
      "outputs": []
    },
    {
      "cell_type": "code",
      "source": [
        ""
      ],
      "metadata": {
        "id": "bjncdQGF2KPs"
      },
      "execution_count": null,
      "outputs": []
    },
    {
      "cell_type": "code",
      "source": [
        ""
      ],
      "metadata": {
        "id": "1NYTRePV2KNU"
      },
      "execution_count": null,
      "outputs": []
    },
    {
      "cell_type": "code",
      "source": [
        ""
      ],
      "metadata": {
        "id": "CCjCt_np2KKl"
      },
      "execution_count": null,
      "outputs": []
    },
    {
      "cell_type": "code",
      "source": [
        ""
      ],
      "metadata": {
        "id": "S-WJRwNv2KIP"
      },
      "execution_count": null,
      "outputs": []
    },
    {
      "cell_type": "code",
      "source": [
        ""
      ],
      "metadata": {
        "id": "_gUGkQAG2KFl"
      },
      "execution_count": null,
      "outputs": []
    },
    {
      "cell_type": "code",
      "source": [
        ""
      ],
      "metadata": {
        "id": "ve_gljZk2KC3"
      },
      "execution_count": null,
      "outputs": []
    },
    {
      "cell_type": "code",
      "source": [
        ""
      ],
      "metadata": {
        "id": "jQOemTw52KAS"
      },
      "execution_count": null,
      "outputs": []
    },
    {
      "cell_type": "code",
      "source": [
        ""
      ],
      "metadata": {
        "id": "jp9b-NDd2J9V"
      },
      "execution_count": null,
      "outputs": []
    },
    {
      "cell_type": "code",
      "source": [
        "scaler = StandardScaler()\n",
        "scaler.fit(X_train)\n",
        "X_train_scaled = scaler.transform(X_train)\n",
        "X_test_scaled = scaler.transform(X_test)"
      ],
      "metadata": {
        "id": "VLHy8bYxrVw5"
      },
      "execution_count": 48,
      "outputs": []
    },
    {
      "cell_type": "code",
      "source": [
        "rf = RandomForestRegressor()\n",
        "rf.fit(X_train_scaled,y_train)\n",
        "rf_pred = rf.predict(X_test_scaled)"
      ],
      "metadata": {
        "id": "ABaNr9rhrVuu"
      },
      "execution_count": 49,
      "outputs": []
    },
    {
      "cell_type": "code",
      "source": [
        "submission['value'] = rf_pred"
      ],
      "metadata": {
        "id": "Fk5S9MATszWR"
      },
      "execution_count": 50,
      "outputs": []
    },
    {
      "cell_type": "code",
      "source": [
        "submission.to_csv('soccer2.csv', index = False)"
      ],
      "metadata": {
        "id": "Oib6zN9yszSI"
      },
      "execution_count": 51,
      "outputs": []
    }
  ]
}